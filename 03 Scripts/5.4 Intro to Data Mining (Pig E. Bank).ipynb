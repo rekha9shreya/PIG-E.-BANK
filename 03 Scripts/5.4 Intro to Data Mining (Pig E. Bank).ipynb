{
 "cells": [
  {
   "cell_type": "markdown",
   "id": "67918a53",
   "metadata": {},
   "source": [
    "## 01 Import Libraries"
   ]
  },
  {
   "cell_type": "markdown",
   "id": "6ac3f206",
   "metadata": {},
   "source": [
    "## 02 Import Pig. E Bank data"
   ]
  },
  {
   "cell_type": "markdown",
   "id": "11c7ee38",
   "metadata": {},
   "source": [
    "## 03 Data Consistency Check"
   ]
  },
  {
   "cell_type": "markdown",
   "id": "e56ab6db",
   "metadata": {},
   "source": [
    "## 01 Import Libraries"
   ]
  },
  {
   "cell_type": "code",
   "execution_count": 1,
   "id": "065fba71",
   "metadata": {},
   "outputs": [],
   "source": [
    "# Import libraries\n",
    "import pandas as pd \n",
    "import numpy as np \n",
    "import os\n",
    "import matplotlib.pyplot as plt\n",
    "import seaborn as sns\n",
    "import scipy"
   ]
  },
  {
   "cell_type": "markdown",
   "id": "7e2a68ef",
   "metadata": {},
   "source": [
    "## 02 Import Pig E. Bank data"
   ]
  },
  {
   "cell_type": "code",
   "execution_count": 2,
   "id": "2b869601",
   "metadata": {},
   "outputs": [],
   "source": [
    "# import path of dataframe\n",
    "path = r\"C:\\Users\\bhimc\\Documents\\Pig E. Bank Analysis (Career Fuondry Rekha)\""
   ]
  },
  {
   "cell_type": "code",
   "execution_count": 3,
   "id": "893b5286",
   "metadata": {},
   "outputs": [
    {
     "data": {
      "text/plain": [
       "'C:\\\\Users\\\\bhimc\\\\Documents\\\\Pig E. Bank Analysis (Career Fuondry Rekha)'"
      ]
     },
     "execution_count": 3,
     "metadata": {},
     "output_type": "execute_result"
    }
   ],
   "source": [
    "path"
   ]
  },
  {
   "cell_type": "code",
   "execution_count": 4,
   "id": "89cb133f",
   "metadata": {},
   "outputs": [],
   "source": [
    "df_bank = pd.read_csv(os.path.join(path, '02 Data', 'Original Data', '5.4-PigEBank-Client-Data set.csv'))"
   ]
  },
  {
   "cell_type": "code",
   "execution_count": 5,
   "id": "e00f75cd",
   "metadata": {},
   "outputs": [
    {
     "data": {
      "text/html": [
       "<div>\n",
       "<style scoped>\n",
       "    .dataframe tbody tr th:only-of-type {\n",
       "        vertical-align: middle;\n",
       "    }\n",
       "\n",
       "    .dataframe tbody tr th {\n",
       "        vertical-align: top;\n",
       "    }\n",
       "\n",
       "    .dataframe thead th {\n",
       "        text-align: right;\n",
       "    }\n",
       "</style>\n",
       "<table border=\"1\" class=\"dataframe\">\n",
       "  <thead>\n",
       "    <tr style=\"text-align: right;\">\n",
       "      <th></th>\n",
       "      <th>Row_Number</th>\n",
       "      <th>Customer_ID</th>\n",
       "      <th>Last_Name</th>\n",
       "      <th>Credit Score</th>\n",
       "      <th>Country</th>\n",
       "      <th>Gender</th>\n",
       "      <th>Age</th>\n",
       "      <th>Tenure</th>\n",
       "      <th>Balance</th>\n",
       "      <th>NumOfProducts</th>\n",
       "      <th>HasCrCard?</th>\n",
       "      <th>IsActiveMember</th>\n",
       "      <th>Estimated Salary</th>\n",
       "      <th>ExitedFromBank?</th>\n",
       "    </tr>\n",
       "  </thead>\n",
       "  <tbody>\n",
       "    <tr>\n",
       "      <th>0</th>\n",
       "      <td>1</td>\n",
       "      <td>15634602</td>\n",
       "      <td>Hargrave</td>\n",
       "      <td>619.0</td>\n",
       "      <td>France</td>\n",
       "      <td>Female</td>\n",
       "      <td>42.0</td>\n",
       "      <td>2</td>\n",
       "      <td>$0.00</td>\n",
       "      <td>1</td>\n",
       "      <td>1</td>\n",
       "      <td>1</td>\n",
       "      <td>$101,348.88</td>\n",
       "      <td>1</td>\n",
       "    </tr>\n",
       "    <tr>\n",
       "      <th>1</th>\n",
       "      <td>2</td>\n",
       "      <td>15647311</td>\n",
       "      <td>Hill</td>\n",
       "      <td>608.0</td>\n",
       "      <td>Spain</td>\n",
       "      <td>Female</td>\n",
       "      <td>41.0</td>\n",
       "      <td>1</td>\n",
       "      <td>$83,807.86</td>\n",
       "      <td>1</td>\n",
       "      <td>0</td>\n",
       "      <td>1</td>\n",
       "      <td>$112,542.58</td>\n",
       "      <td>0</td>\n",
       "    </tr>\n",
       "    <tr>\n",
       "      <th>2</th>\n",
       "      <td>3</td>\n",
       "      <td>15619304</td>\n",
       "      <td>Onio</td>\n",
       "      <td>502.0</td>\n",
       "      <td>France</td>\n",
       "      <td>Female</td>\n",
       "      <td>42.0</td>\n",
       "      <td>8</td>\n",
       "      <td>$159,660.80</td>\n",
       "      <td>3</td>\n",
       "      <td>1</td>\n",
       "      <td>0</td>\n",
       "      <td>$113,931.57</td>\n",
       "      <td>1</td>\n",
       "    </tr>\n",
       "    <tr>\n",
       "      <th>3</th>\n",
       "      <td>4</td>\n",
       "      <td>15701354</td>\n",
       "      <td>Boni</td>\n",
       "      <td>699.0</td>\n",
       "      <td>France</td>\n",
       "      <td>Female</td>\n",
       "      <td>39.0</td>\n",
       "      <td>1</td>\n",
       "      <td>$0.00</td>\n",
       "      <td>2</td>\n",
       "      <td>0</td>\n",
       "      <td>0</td>\n",
       "      <td>$93,826.63</td>\n",
       "      <td>0</td>\n",
       "    </tr>\n",
       "    <tr>\n",
       "      <th>4</th>\n",
       "      <td>5</td>\n",
       "      <td>15737888</td>\n",
       "      <td>Mitchell</td>\n",
       "      <td>850.0</td>\n",
       "      <td>Spain</td>\n",
       "      <td>Female</td>\n",
       "      <td>43.0</td>\n",
       "      <td>2</td>\n",
       "      <td>$125,510.82</td>\n",
       "      <td>1</td>\n",
       "      <td>1</td>\n",
       "      <td>1</td>\n",
       "      <td>$79,084.10</td>\n",
       "      <td>0</td>\n",
       "    </tr>\n",
       "  </tbody>\n",
       "</table>\n",
       "</div>"
      ],
      "text/plain": [
       "   Row_Number  Customer_ID Last_Name  Credit Score Country  Gender   Age  \\\n",
       "0           1     15634602  Hargrave         619.0  France  Female  42.0   \n",
       "1           2     15647311      Hill         608.0   Spain  Female  41.0   \n",
       "2           3     15619304      Onio         502.0  France  Female  42.0   \n",
       "3           4     15701354      Boni         699.0  France  Female  39.0   \n",
       "4           5     15737888  Mitchell         850.0   Spain  Female  43.0   \n",
       "\n",
       "   Tenure       Balance  NumOfProducts  HasCrCard?  IsActiveMember  \\\n",
       "0       2        $0.00               1           1               1   \n",
       "1       1   $83,807.86               1           0               1   \n",
       "2       8  $159,660.80               3           1               0   \n",
       "3       1        $0.00               2           0               0   \n",
       "4       2  $125,510.82               1           1               1   \n",
       "\n",
       "  Estimated Salary  ExitedFromBank?  \n",
       "0      $101,348.88                1  \n",
       "1      $112,542.58                0  \n",
       "2      $113,931.57                1  \n",
       "3       $93,826.63                0  \n",
       "4       $79,084.10                0  "
      ]
     },
     "execution_count": 5,
     "metadata": {},
     "output_type": "execute_result"
    }
   ],
   "source": [
    "df_bank.head()"
   ]
  },
  {
   "cell_type": "code",
   "execution_count": 6,
   "id": "d8c3864a",
   "metadata": {},
   "outputs": [
    {
     "data": {
      "text/plain": [
       "(991, 14)"
      ]
     },
     "execution_count": 6,
     "metadata": {},
     "output_type": "execute_result"
    }
   ],
   "source": [
    "df_bank.shape"
   ]
  },
  {
   "cell_type": "code",
   "execution_count": 7,
   "id": "07891c74",
   "metadata": {},
   "outputs": [
    {
     "name": "stdout",
     "output_type": "stream",
     "text": [
      "<class 'pandas.core.frame.DataFrame'>\n",
      "RangeIndex: 991 entries, 0 to 990\n",
      "Data columns (total 14 columns):\n",
      " #   Column            Non-Null Count  Dtype  \n",
      "---  ------            --------------  -----  \n",
      " 0   Row_Number        991 non-null    int64  \n",
      " 1   Customer_ID       991 non-null    int64  \n",
      " 2   Last_Name         990 non-null    object \n",
      " 3   Credit Score      988 non-null    float64\n",
      " 4   Country           991 non-null    object \n",
      " 5   Gender            990 non-null    object \n",
      " 6   Age               990 non-null    float64\n",
      " 7   Tenure            991 non-null    int64  \n",
      " 8   Balance           991 non-null    object \n",
      " 9   NumOfProducts     991 non-null    int64  \n",
      " 10  HasCrCard?        991 non-null    int64  \n",
      " 11  IsActiveMember    991 non-null    int64  \n",
      " 12  Estimated Salary  989 non-null    object \n",
      " 13  ExitedFromBank?   991 non-null    int64  \n",
      "dtypes: float64(2), int64(7), object(5)\n",
      "memory usage: 108.5+ KB\n"
     ]
    }
   ],
   "source": [
    "df_bank.info()"
   ]
  },
  {
   "cell_type": "code",
   "execution_count": 8,
   "id": "19a404b6",
   "metadata": {},
   "outputs": [
    {
     "data": {
      "text/plain": [
       "Row_Number            int64\n",
       "Customer_ID           int64\n",
       "Last_Name            object\n",
       "Credit Score        float64\n",
       "Country              object\n",
       "Gender               object\n",
       "Age                 float64\n",
       "Tenure                int64\n",
       "Balance              object\n",
       "NumOfProducts         int64\n",
       "HasCrCard?            int64\n",
       "IsActiveMember        int64\n",
       "Estimated Salary     object\n",
       "ExitedFromBank?       int64\n",
       "dtype: object"
      ]
     },
     "execution_count": 8,
     "metadata": {},
     "output_type": "execute_result"
    }
   ],
   "source": [
    "df_bank.dtypes"
   ]
  },
  {
   "cell_type": "code",
   "execution_count": 9,
   "id": "5da3e5be",
   "metadata": {},
   "outputs": [
    {
     "data": {
      "text/html": [
       "<div>\n",
       "<style scoped>\n",
       "    .dataframe tbody tr th:only-of-type {\n",
       "        vertical-align: middle;\n",
       "    }\n",
       "\n",
       "    .dataframe tbody tr th {\n",
       "        vertical-align: top;\n",
       "    }\n",
       "\n",
       "    .dataframe thead th {\n",
       "        text-align: right;\n",
       "    }\n",
       "</style>\n",
       "<table border=\"1\" class=\"dataframe\">\n",
       "  <thead>\n",
       "    <tr style=\"text-align: right;\">\n",
       "      <th></th>\n",
       "      <th>Row_Number</th>\n",
       "      <th>Customer_ID</th>\n",
       "      <th>Credit Score</th>\n",
       "      <th>Age</th>\n",
       "      <th>Tenure</th>\n",
       "      <th>NumOfProducts</th>\n",
       "      <th>HasCrCard?</th>\n",
       "      <th>IsActiveMember</th>\n",
       "      <th>ExitedFromBank?</th>\n",
       "    </tr>\n",
       "  </thead>\n",
       "  <tbody>\n",
       "    <tr>\n",
       "      <th>count</th>\n",
       "      <td>991.00000</td>\n",
       "      <td>9.910000e+02</td>\n",
       "      <td>988.000000</td>\n",
       "      <td>990.000000</td>\n",
       "      <td>991.000000</td>\n",
       "      <td>991.000000</td>\n",
       "      <td>991.000000</td>\n",
       "      <td>991.000000</td>\n",
       "      <td>991.000000</td>\n",
       "    </tr>\n",
       "    <tr>\n",
       "      <th>mean</th>\n",
       "      <td>496.00000</td>\n",
       "      <td>1.569232e+07</td>\n",
       "      <td>648.512146</td>\n",
       "      <td>38.684848</td>\n",
       "      <td>5.066599</td>\n",
       "      <td>1.522704</td>\n",
       "      <td>0.706357</td>\n",
       "      <td>0.507568</td>\n",
       "      <td>0.205853</td>\n",
       "    </tr>\n",
       "    <tr>\n",
       "      <th>std</th>\n",
       "      <td>286.22136</td>\n",
       "      <td>7.223333e+04</td>\n",
       "      <td>98.202853</td>\n",
       "      <td>10.958220</td>\n",
       "      <td>2.928371</td>\n",
       "      <td>0.573170</td>\n",
       "      <td>0.455660</td>\n",
       "      <td>0.500195</td>\n",
       "      <td>0.404527</td>\n",
       "    </tr>\n",
       "    <tr>\n",
       "      <th>min</th>\n",
       "      <td>1.00000</td>\n",
       "      <td>1.556609e+07</td>\n",
       "      <td>376.000000</td>\n",
       "      <td>2.000000</td>\n",
       "      <td>0.000000</td>\n",
       "      <td>1.000000</td>\n",
       "      <td>0.000000</td>\n",
       "      <td>0.000000</td>\n",
       "      <td>0.000000</td>\n",
       "    </tr>\n",
       "    <tr>\n",
       "      <th>25%</th>\n",
       "      <td>248.50000</td>\n",
       "      <td>1.563019e+07</td>\n",
       "      <td>579.750000</td>\n",
       "      <td>32.000000</td>\n",
       "      <td>2.000000</td>\n",
       "      <td>1.000000</td>\n",
       "      <td>0.000000</td>\n",
       "      <td>0.000000</td>\n",
       "      <td>0.000000</td>\n",
       "    </tr>\n",
       "    <tr>\n",
       "      <th>50%</th>\n",
       "      <td>496.00000</td>\n",
       "      <td>1.569275e+07</td>\n",
       "      <td>653.500000</td>\n",
       "      <td>37.000000</td>\n",
       "      <td>5.000000</td>\n",
       "      <td>1.000000</td>\n",
       "      <td>1.000000</td>\n",
       "      <td>1.000000</td>\n",
       "      <td>0.000000</td>\n",
       "    </tr>\n",
       "    <tr>\n",
       "      <th>75%</th>\n",
       "      <td>743.50000</td>\n",
       "      <td>1.575379e+07</td>\n",
       "      <td>721.000000</td>\n",
       "      <td>44.000000</td>\n",
       "      <td>8.000000</td>\n",
       "      <td>2.000000</td>\n",
       "      <td>1.000000</td>\n",
       "      <td>1.000000</td>\n",
       "      <td>0.000000</td>\n",
       "    </tr>\n",
       "    <tr>\n",
       "      <th>max</th>\n",
       "      <td>991.00000</td>\n",
       "      <td>1.581536e+07</td>\n",
       "      <td>850.000000</td>\n",
       "      <td>82.000000</td>\n",
       "      <td>10.000000</td>\n",
       "      <td>4.000000</td>\n",
       "      <td>1.000000</td>\n",
       "      <td>1.000000</td>\n",
       "      <td>1.000000</td>\n",
       "    </tr>\n",
       "  </tbody>\n",
       "</table>\n",
       "</div>"
      ],
      "text/plain": [
       "       Row_Number   Customer_ID  Credit Score         Age      Tenure  \\\n",
       "count   991.00000  9.910000e+02    988.000000  990.000000  991.000000   \n",
       "mean    496.00000  1.569232e+07    648.512146   38.684848    5.066599   \n",
       "std     286.22136  7.223333e+04     98.202853   10.958220    2.928371   \n",
       "min       1.00000  1.556609e+07    376.000000    2.000000    0.000000   \n",
       "25%     248.50000  1.563019e+07    579.750000   32.000000    2.000000   \n",
       "50%     496.00000  1.569275e+07    653.500000   37.000000    5.000000   \n",
       "75%     743.50000  1.575379e+07    721.000000   44.000000    8.000000   \n",
       "max     991.00000  1.581536e+07    850.000000   82.000000   10.000000   \n",
       "\n",
       "       NumOfProducts  HasCrCard?  IsActiveMember  ExitedFromBank?  \n",
       "count     991.000000  991.000000      991.000000       991.000000  \n",
       "mean        1.522704    0.706357        0.507568         0.205853  \n",
       "std         0.573170    0.455660        0.500195         0.404527  \n",
       "min         1.000000    0.000000        0.000000         0.000000  \n",
       "25%         1.000000    0.000000        0.000000         0.000000  \n",
       "50%         1.000000    1.000000        1.000000         0.000000  \n",
       "75%         2.000000    1.000000        1.000000         0.000000  \n",
       "max         4.000000    1.000000        1.000000         1.000000  "
      ]
     },
     "execution_count": 9,
     "metadata": {},
     "output_type": "execute_result"
    }
   ],
   "source": [
    "df_bank.describe()"
   ]
  },
  {
   "cell_type": "markdown",
   "id": "2036627d",
   "metadata": {},
   "source": [
    "## 03 Data Consistency Check"
   ]
  },
  {
   "cell_type": "code",
   "execution_count": 10,
   "id": "b1a46db6",
   "metadata": {},
   "outputs": [],
   "source": [
    "# Drop column \"Row_number\" and column \"Last_name\" because no longer needed for the analysiss\n",
    "df_bank = df_bank.drop(columns = ['Row_Number', 'Last_Name'])"
   ]
  },
  {
   "cell_type": "code",
   "execution_count": 11,
   "id": "a70555e3",
   "metadata": {},
   "outputs": [
    {
     "data": {
      "text/html": [
       "<div>\n",
       "<style scoped>\n",
       "    .dataframe tbody tr th:only-of-type {\n",
       "        vertical-align: middle;\n",
       "    }\n",
       "\n",
       "    .dataframe tbody tr th {\n",
       "        vertical-align: top;\n",
       "    }\n",
       "\n",
       "    .dataframe thead th {\n",
       "        text-align: right;\n",
       "    }\n",
       "</style>\n",
       "<table border=\"1\" class=\"dataframe\">\n",
       "  <thead>\n",
       "    <tr style=\"text-align: right;\">\n",
       "      <th></th>\n",
       "      <th>Customer_ID</th>\n",
       "      <th>Credit Score</th>\n",
       "      <th>Country</th>\n",
       "      <th>Gender</th>\n",
       "      <th>Age</th>\n",
       "      <th>Tenure</th>\n",
       "      <th>Balance</th>\n",
       "      <th>NumOfProducts</th>\n",
       "      <th>HasCrCard?</th>\n",
       "      <th>IsActiveMember</th>\n",
       "      <th>Estimated Salary</th>\n",
       "      <th>ExitedFromBank?</th>\n",
       "    </tr>\n",
       "  </thead>\n",
       "  <tbody>\n",
       "    <tr>\n",
       "      <th>0</th>\n",
       "      <td>15634602</td>\n",
       "      <td>619.0</td>\n",
       "      <td>France</td>\n",
       "      <td>Female</td>\n",
       "      <td>42.0</td>\n",
       "      <td>2</td>\n",
       "      <td>$0.00</td>\n",
       "      <td>1</td>\n",
       "      <td>1</td>\n",
       "      <td>1</td>\n",
       "      <td>$101,348.88</td>\n",
       "      <td>1</td>\n",
       "    </tr>\n",
       "    <tr>\n",
       "      <th>1</th>\n",
       "      <td>15647311</td>\n",
       "      <td>608.0</td>\n",
       "      <td>Spain</td>\n",
       "      <td>Female</td>\n",
       "      <td>41.0</td>\n",
       "      <td>1</td>\n",
       "      <td>$83,807.86</td>\n",
       "      <td>1</td>\n",
       "      <td>0</td>\n",
       "      <td>1</td>\n",
       "      <td>$112,542.58</td>\n",
       "      <td>0</td>\n",
       "    </tr>\n",
       "    <tr>\n",
       "      <th>2</th>\n",
       "      <td>15619304</td>\n",
       "      <td>502.0</td>\n",
       "      <td>France</td>\n",
       "      <td>Female</td>\n",
       "      <td>42.0</td>\n",
       "      <td>8</td>\n",
       "      <td>$159,660.80</td>\n",
       "      <td>3</td>\n",
       "      <td>1</td>\n",
       "      <td>0</td>\n",
       "      <td>$113,931.57</td>\n",
       "      <td>1</td>\n",
       "    </tr>\n",
       "    <tr>\n",
       "      <th>3</th>\n",
       "      <td>15701354</td>\n",
       "      <td>699.0</td>\n",
       "      <td>France</td>\n",
       "      <td>Female</td>\n",
       "      <td>39.0</td>\n",
       "      <td>1</td>\n",
       "      <td>$0.00</td>\n",
       "      <td>2</td>\n",
       "      <td>0</td>\n",
       "      <td>0</td>\n",
       "      <td>$93,826.63</td>\n",
       "      <td>0</td>\n",
       "    </tr>\n",
       "    <tr>\n",
       "      <th>4</th>\n",
       "      <td>15737888</td>\n",
       "      <td>850.0</td>\n",
       "      <td>Spain</td>\n",
       "      <td>Female</td>\n",
       "      <td>43.0</td>\n",
       "      <td>2</td>\n",
       "      <td>$125,510.82</td>\n",
       "      <td>1</td>\n",
       "      <td>1</td>\n",
       "      <td>1</td>\n",
       "      <td>$79,084.10</td>\n",
       "      <td>0</td>\n",
       "    </tr>\n",
       "  </tbody>\n",
       "</table>\n",
       "</div>"
      ],
      "text/plain": [
       "   Customer_ID  Credit Score Country  Gender   Age  Tenure       Balance  \\\n",
       "0     15634602         619.0  France  Female  42.0       2        $0.00    \n",
       "1     15647311         608.0   Spain  Female  41.0       1   $83,807.86    \n",
       "2     15619304         502.0  France  Female  42.0       8  $159,660.80    \n",
       "3     15701354         699.0  France  Female  39.0       1        $0.00    \n",
       "4     15737888         850.0   Spain  Female  43.0       2  $125,510.82    \n",
       "\n",
       "   NumOfProducts  HasCrCard?  IsActiveMember Estimated Salary  ExitedFromBank?  \n",
       "0              1           1               1      $101,348.88                1  \n",
       "1              1           0               1      $112,542.58                0  \n",
       "2              3           1               0      $113,931.57                1  \n",
       "3              2           0               0       $93,826.63                0  \n",
       "4              1           1               1       $79,084.10                0  "
      ]
     },
     "execution_count": 11,
     "metadata": {},
     "output_type": "execute_result"
    }
   ],
   "source": [
    "df_bank.head()"
   ]
  },
  {
   "cell_type": "code",
   "execution_count": 12,
   "id": "8aa4166d",
   "metadata": {},
   "outputs": [],
   "source": [
    "# Change data type on column Customer_ID from Number to a string\n",
    "df_bank['Customer_ID'] = df_bank['Customer_ID'].astype('str')"
   ]
  },
  {
   "cell_type": "code",
   "execution_count": 13,
   "id": "cfe3a3f6",
   "metadata": {},
   "outputs": [
    {
     "data": {
      "text/plain": [
       "dtype('O')"
      ]
     },
     "execution_count": 13,
     "metadata": {},
     "output_type": "execute_result"
    }
   ],
   "source": [
    "df_bank['Customer_ID'].dtype"
   ]
  },
  {
   "cell_type": "markdown",
   "id": "3009952d",
   "metadata": {},
   "source": [
    "### Finding missing value in Pig E. Bank dataframe"
   ]
  },
  {
   "cell_type": "code",
   "execution_count": 14,
   "id": "1197dae9",
   "metadata": {},
   "outputs": [
    {
     "data": {
      "text/plain": [
       "Customer_ID         0\n",
       "Credit Score        3\n",
       "Country             0\n",
       "Gender              1\n",
       "Age                 1\n",
       "Tenure              0\n",
       "Balance             0\n",
       "NumOfProducts       0\n",
       "HasCrCard?          0\n",
       "IsActiveMember      0\n",
       "Estimated Salary    2\n",
       "ExitedFromBank?     0\n",
       "dtype: int64"
      ]
     },
     "execution_count": 14,
     "metadata": {},
     "output_type": "execute_result"
    }
   ],
   "source": [
    "# finnding missing value in dataframe\n",
    "df_bank.isnull().sum()"
   ]
  },
  {
   "cell_type": "code",
   "execution_count": 45,
   "id": "cf6dac9c",
   "metadata": {},
   "outputs": [],
   "source": [
    "#View missing values in Estimated Salary\n",
    "df_nan = df_bank[df_bank['Estimated Salary'].isnull()==True]"
   ]
  },
  {
   "cell_type": "code",
   "execution_count": 46,
   "id": "bb92be31",
   "metadata": {},
   "outputs": [],
   "source": [
    "df_bank_updated = df_bank"
   ]
  },
  {
   "cell_type": "code",
   "execution_count": 104,
   "id": "6768db27",
   "metadata": {},
   "outputs": [],
   "source": [
    "#Replace missing value 'NaN' in 'Estimate Salary' column with '0'\n",
    "df_bank_updated['Estimated Salary']=df_bank_updated['Estimated Salary'].fillna(df_bank_updated['Estimated Salary'].median())"
   ]
  },
  {
   "cell_type": "code",
   "execution_count": null,
   "id": "a84c8340",
   "metadata": {},
   "outputs": [],
   "source": [
    "df_bank['Estimated Salary'] = df_bank['Estimated Salary'].str.replace(',', '')"
   ]
  },
  {
   "cell_type": "code",
   "execution_count": null,
   "id": "4c98a976",
   "metadata": {},
   "outputs": [],
   "source": [
    "df_bank['Estimated Salary'] = df_bank['Estimated Salary'].str.replace('$', '')"
   ]
  },
  {
   "cell_type": "code",
   "execution_count": 53,
   "id": "c98fabcc",
   "metadata": {
    "scrolled": true
   },
   "outputs": [
    {
     "data": {
      "text/plain": [
       "0      101348.88\n",
       "1      112542.58\n",
       "2      113931.57\n",
       "3       93826.63\n",
       "4       79084.10\n",
       "         ...    \n",
       "986     79616.37\n",
       "987    102299.81\n",
       "988    104533.51\n",
       "989    140765.57\n",
       "990     66214.13\n",
       "Name: Estimated Salary, Length: 991, dtype: float64"
      ]
     },
     "execution_count": 53,
     "metadata": {},
     "output_type": "execute_result"
    }
   ],
   "source": [
    "df_bank['Estimated Salary']"
   ]
  },
  {
   "cell_type": "code",
   "execution_count": 19,
   "id": "9eb89f99",
   "metadata": {},
   "outputs": [],
   "source": [
    "# changing data type for Statement_salary column from string to 'float'\n",
    "df_bank['Estimated Salary'] = df_bank['Estimated Salary'].astype('float')"
   ]
  },
  {
   "cell_type": "code",
   "execution_count": 31,
   "id": "5a1f153b",
   "metadata": {},
   "outputs": [],
   "source": [
    "#View 3 missing values in Credit Score\\n\",\n",
    "df_nan = df_bank[df_bank['Credit Score'].isnull()==True]"
   ]
  },
  {
   "cell_type": "code",
   "execution_count": 32,
   "id": "62a7b8be",
   "metadata": {},
   "outputs": [
    {
     "data": {
      "text/html": [
       "<div>\n",
       "<style scoped>\n",
       "    .dataframe tbody tr th:only-of-type {\n",
       "        vertical-align: middle;\n",
       "    }\n",
       "\n",
       "    .dataframe tbody tr th {\n",
       "        vertical-align: top;\n",
       "    }\n",
       "\n",
       "    .dataframe thead th {\n",
       "        text-align: right;\n",
       "    }\n",
       "</style>\n",
       "<table border=\"1\" class=\"dataframe\">\n",
       "  <thead>\n",
       "    <tr style=\"text-align: right;\">\n",
       "      <th></th>\n",
       "      <th>Customer_ID</th>\n",
       "      <th>Credit Score</th>\n",
       "      <th>Country</th>\n",
       "      <th>Gender</th>\n",
       "      <th>Age</th>\n",
       "      <th>Tenure</th>\n",
       "      <th>Balance</th>\n",
       "      <th>NumOfProducts</th>\n",
       "      <th>HasCrCard?</th>\n",
       "      <th>IsActiveMember</th>\n",
       "      <th>Estimated Salary</th>\n",
       "      <th>ExitedFromBank?</th>\n",
       "    </tr>\n",
       "  </thead>\n",
       "  <tbody>\n",
       "    <tr>\n",
       "      <th>204</th>\n",
       "      <td>15627801</td>\n",
       "      <td>NaN</td>\n",
       "      <td>ES</td>\n",
       "      <td>Male</td>\n",
       "      <td>33.0</td>\n",
       "      <td>3</td>\n",
       "      <td>176666.62</td>\n",
       "      <td>1</td>\n",
       "      <td>1</td>\n",
       "      <td>0</td>\n",
       "      <td>94670.77</td>\n",
       "      <td>0</td>\n",
       "    </tr>\n",
       "    <tr>\n",
       "      <th>214</th>\n",
       "      <td>15785542</td>\n",
       "      <td>NaN</td>\n",
       "      <td>DE</td>\n",
       "      <td>Male</td>\n",
       "      <td>26.0</td>\n",
       "      <td>4</td>\n",
       "      <td>118287.01</td>\n",
       "      <td>2</td>\n",
       "      <td>0</td>\n",
       "      <td>0</td>\n",
       "      <td>NaN</td>\n",
       "      <td>0</td>\n",
       "    </tr>\n",
       "    <tr>\n",
       "      <th>976</th>\n",
       "      <td>15570060</td>\n",
       "      <td>NaN</td>\n",
       "      <td>France</td>\n",
       "      <td>Female</td>\n",
       "      <td>43.0</td>\n",
       "      <td>8</td>\n",
       "      <td>132558.26</td>\n",
       "      <td>1</td>\n",
       "      <td>1</td>\n",
       "      <td>0</td>\n",
       "      <td>67046.83</td>\n",
       "      <td>1</td>\n",
       "    </tr>\n",
       "  </tbody>\n",
       "</table>\n",
       "</div>"
      ],
      "text/plain": [
       "    Customer_ID  Credit Score Country  Gender   Age  Tenure    Balance  \\\n",
       "204    15627801           NaN      ES    Male  33.0       3  176666.62   \n",
       "214    15785542           NaN      DE    Male  26.0       4  118287.01   \n",
       "976    15570060           NaN  France  Female  43.0       8  132558.26   \n",
       "\n",
       "     NumOfProducts HasCrCard? IsActiveMember  Estimated Salary ExitedFromBank?  \n",
       "204              1          1              0          94670.77               0  \n",
       "214              2          0              0               NaN               0  \n",
       "976              1          1              0          67046.83               1  "
      ]
     },
     "execution_count": 32,
     "metadata": {},
     "output_type": "execute_result"
    }
   ],
   "source": [
    "df_nan"
   ]
  },
  {
   "cell_type": "code",
   "execution_count": 33,
   "id": "8999b971",
   "metadata": {},
   "outputs": [],
   "source": [
    "# Replace missing value 'NaN'  with mean in \"Credit Score\" colum\n",
    "df_bank_updated = df_bank"
   ]
  },
  {
   "cell_type": "code",
   "execution_count": 34,
   "id": "b0a179d9",
   "metadata": {},
   "outputs": [],
   "source": [
    "df_bank_updated['Credit Score']=df_bank_updated['Credit Score'].fillna(df_bank_updated['Credit Score'].mean())"
   ]
  },
  {
   "cell_type": "code",
   "execution_count": 35,
   "id": "5f0b052e",
   "metadata": {},
   "outputs": [
    {
     "name": "stdout",
     "output_type": "stream",
     "text": [
      "<class 'pandas.core.frame.DataFrame'>\n",
      "RangeIndex: 991 entries, 0 to 990\n",
      "Data columns (total 12 columns):\n",
      " #   Column            Non-Null Count  Dtype  \n",
      "---  ------            --------------  -----  \n",
      " 0   Customer_ID       991 non-null    object \n",
      " 1   Credit Score      991 non-null    float64\n",
      " 2   Country           991 non-null    object \n",
      " 3   Gender            990 non-null    object \n",
      " 4   Age               990 non-null    float64\n",
      " 5   Tenure            991 non-null    int64  \n",
      " 6   Balance           991 non-null    float64\n",
      " 7   NumOfProducts     991 non-null    int64  \n",
      " 8   HasCrCard?        991 non-null    object \n",
      " 9   IsActiveMember    991 non-null    object \n",
      " 10  Estimated Salary  989 non-null    float64\n",
      " 11  ExitedFromBank?   991 non-null    object \n",
      "dtypes: float64(4), int64(2), object(6)\n",
      "memory usage: 93.0+ KB\n"
     ]
    }
   ],
   "source": [
    "df_bank_updated.info()"
   ]
  },
  {
   "cell_type": "code",
   "execution_count": 37,
   "id": "8aec4c61",
   "metadata": {},
   "outputs": [],
   "source": [
    "#View missing values in 'Gender' column\n",
    "df_nan = df_bank[df_bank['Gender'].isnull()==True]"
   ]
  },
  {
   "cell_type": "code",
   "execution_count": 38,
   "id": "e2c59e91",
   "metadata": {},
   "outputs": [],
   "source": [
    "df_bank_updated = df_bank"
   ]
  },
  {
   "cell_type": "code",
   "execution_count": 39,
   "id": "874027f6",
   "metadata": {},
   "outputs": [],
   "source": [
    "#Replace missing value 'NaN' in 'Gender' column with 'mode'\n",
    "df_bank_updated['Gender']=df_bank_updated['Gender'].fillna(df_bank_updated['Gender'].mode())"
   ]
  },
  {
   "cell_type": "code",
   "execution_count": 40,
   "id": "a46c6e65",
   "metadata": {},
   "outputs": [],
   "source": [
    "# View missing values in 'Age' column\n",
    "df_nan = df_bank[df_bank['Age'].isnull()==True]"
   ]
  },
  {
   "cell_type": "code",
   "execution_count": 41,
   "id": "2a80d63c",
   "metadata": {},
   "outputs": [],
   "source": [
    "df_bank_updated = df_bank"
   ]
  },
  {
   "cell_type": "code",
   "execution_count": 42,
   "id": "6a1e673b",
   "metadata": {},
   "outputs": [],
   "source": [
    "#Replace missing value 'NaN' in 'Age' column with 'median'\n",
    "df_bank_updated['Age']=df_bank_updated['Age'].fillna(df_bank_updated['Age'].median())"
   ]
  },
  {
   "cell_type": "code",
   "execution_count": 20,
   "id": "9e32bb93",
   "metadata": {},
   "outputs": [],
   "source": [
    "# Strip '$' and ' ', from the Balance column\n",
    "df_bank['Balance'] = df_bank['Balance'].str.replace(',', '')"
   ]
  },
  {
   "cell_type": "code",
   "execution_count": 21,
   "id": "3b9895f8",
   "metadata": {},
   "outputs": [],
   "source": [
    "df_bank['Balance'] = df_bank['Balance'].str.replace('$', '')"
   ]
  },
  {
   "cell_type": "code",
   "execution_count": 54,
   "id": "87b4e27f",
   "metadata": {},
   "outputs": [
    {
     "data": {
      "text/plain": [
       "0           0.00\n",
       "1       83807.86\n",
       "2      159660.80\n",
       "3           0.00\n",
       "4      125510.82\n",
       "         ...    \n",
       "986    142120.91\n",
       "987    151839.26\n",
       "988    149620.88\n",
       "989    168197.66\n",
       "990     93147.00\n",
       "Name: Balance, Length: 991, dtype: float64"
      ]
     },
     "execution_count": 54,
     "metadata": {},
     "output_type": "execute_result"
    }
   ],
   "source": [
    "df_bank['Balance']"
   ]
  },
  {
   "cell_type": "code",
   "execution_count": 23,
   "id": "7892562d",
   "metadata": {},
   "outputs": [],
   "source": [
    "# changing data type for 'Balance' column from string to 'float'\n",
    "df_bank['Balance'] = df_bank['Balance'].astype('float')"
   ]
  },
  {
   "cell_type": "code",
   "execution_count": 24,
   "id": "9e5e5001",
   "metadata": {},
   "outputs": [],
   "source": [
    "# Changing data type for column 'Has CrCard ?'  from number to string\n",
    "df_bank['HasCrCard?'] = df_bank['HasCrCard?'].astype('str')"
   ]
  },
  {
   "cell_type": "code",
   "execution_count": 25,
   "id": "0c872cce",
   "metadata": {},
   "outputs": [],
   "source": [
    "# Changing data type for column 'IsActiveMember' from number to string\n",
    "df_bank['IsActiveMember'] = df_bank['IsActiveMember'].astype('str')"
   ]
  },
  {
   "cell_type": "code",
   "execution_count": 26,
   "id": "f0709311",
   "metadata": {},
   "outputs": [],
   "source": [
    "# Changing data type for column 'ExistedFromBank' from number to string\n",
    "df_bank['ExitedFromBank?'] = df_bank['ExitedFromBank?'].astype('str')"
   ]
  },
  {
   "cell_type": "code",
   "execution_count": 55,
   "id": "328d0adf",
   "metadata": {},
   "outputs": [
    {
     "data": {
      "text/plain": [
       "Customer_ID          object\n",
       "Credit Score          int32\n",
       "Country              object\n",
       "Gender               object\n",
       "Age                 float64\n",
       "Tenure                int64\n",
       "Balance             float64\n",
       "NumOfProducts         int64\n",
       "HasCrCard?           object\n",
       "IsActiveMember       object\n",
       "Estimated Salary    float64\n",
       "ExitedFromBank?      object\n",
       "dtype: object"
      ]
     },
     "execution_count": 55,
     "metadata": {},
     "output_type": "execute_result"
    }
   ],
   "source": [
    "df_bank.dtypes"
   ]
  },
  {
   "cell_type": "code",
   "execution_count": null,
   "id": "ccd1d91e",
   "metadata": {},
   "outputs": [],
   "source": []
  },
  {
   "cell_type": "code",
   "execution_count": 28,
   "id": "4eda21cf",
   "metadata": {
    "scrolled": true
   },
   "outputs": [
    {
     "data": {
      "text/html": [
       "<div>\n",
       "<style scoped>\n",
       "    .dataframe tbody tr th:only-of-type {\n",
       "        vertical-align: middle;\n",
       "    }\n",
       "\n",
       "    .dataframe tbody tr th {\n",
       "        vertical-align: top;\n",
       "    }\n",
       "\n",
       "    .dataframe thead th {\n",
       "        text-align: right;\n",
       "    }\n",
       "</style>\n",
       "<table border=\"1\" class=\"dataframe\">\n",
       "  <thead>\n",
       "    <tr style=\"text-align: right;\">\n",
       "      <th></th>\n",
       "      <th>Customer_ID</th>\n",
       "      <th>Credit Score</th>\n",
       "      <th>Country</th>\n",
       "      <th>Gender</th>\n",
       "      <th>Age</th>\n",
       "      <th>Tenure</th>\n",
       "      <th>Balance</th>\n",
       "      <th>NumOfProducts</th>\n",
       "      <th>HasCrCard?</th>\n",
       "      <th>IsActiveMember</th>\n",
       "      <th>Estimated Salary</th>\n",
       "      <th>ExitedFromBank?</th>\n",
       "    </tr>\n",
       "  </thead>\n",
       "  <tbody>\n",
       "    <tr>\n",
       "      <th>0</th>\n",
       "      <td>15634602</td>\n",
       "      <td>619.0</td>\n",
       "      <td>France</td>\n",
       "      <td>Female</td>\n",
       "      <td>42.0</td>\n",
       "      <td>2</td>\n",
       "      <td>0.00</td>\n",
       "      <td>1</td>\n",
       "      <td>1</td>\n",
       "      <td>1</td>\n",
       "      <td>101348.88</td>\n",
       "      <td>1</td>\n",
       "    </tr>\n",
       "    <tr>\n",
       "      <th>1</th>\n",
       "      <td>15647311</td>\n",
       "      <td>608.0</td>\n",
       "      <td>Spain</td>\n",
       "      <td>Female</td>\n",
       "      <td>41.0</td>\n",
       "      <td>1</td>\n",
       "      <td>83807.86</td>\n",
       "      <td>1</td>\n",
       "      <td>0</td>\n",
       "      <td>1</td>\n",
       "      <td>112542.58</td>\n",
       "      <td>0</td>\n",
       "    </tr>\n",
       "    <tr>\n",
       "      <th>2</th>\n",
       "      <td>15619304</td>\n",
       "      <td>502.0</td>\n",
       "      <td>France</td>\n",
       "      <td>Female</td>\n",
       "      <td>42.0</td>\n",
       "      <td>8</td>\n",
       "      <td>159660.80</td>\n",
       "      <td>3</td>\n",
       "      <td>1</td>\n",
       "      <td>0</td>\n",
       "      <td>113931.57</td>\n",
       "      <td>1</td>\n",
       "    </tr>\n",
       "    <tr>\n",
       "      <th>3</th>\n",
       "      <td>15701354</td>\n",
       "      <td>699.0</td>\n",
       "      <td>France</td>\n",
       "      <td>Female</td>\n",
       "      <td>39.0</td>\n",
       "      <td>1</td>\n",
       "      <td>0.00</td>\n",
       "      <td>2</td>\n",
       "      <td>0</td>\n",
       "      <td>0</td>\n",
       "      <td>93826.63</td>\n",
       "      <td>0</td>\n",
       "    </tr>\n",
       "    <tr>\n",
       "      <th>4</th>\n",
       "      <td>15737888</td>\n",
       "      <td>850.0</td>\n",
       "      <td>Spain</td>\n",
       "      <td>Female</td>\n",
       "      <td>43.0</td>\n",
       "      <td>2</td>\n",
       "      <td>125510.82</td>\n",
       "      <td>1</td>\n",
       "      <td>1</td>\n",
       "      <td>1</td>\n",
       "      <td>79084.10</td>\n",
       "      <td>0</td>\n",
       "    </tr>\n",
       "  </tbody>\n",
       "</table>\n",
       "</div>"
      ],
      "text/plain": [
       "  Customer_ID  Credit Score Country  Gender   Age  Tenure    Balance  \\\n",
       "0    15634602         619.0  France  Female  42.0       2       0.00   \n",
       "1    15647311         608.0   Spain  Female  41.0       1   83807.86   \n",
       "2    15619304         502.0  France  Female  42.0       8  159660.80   \n",
       "3    15701354         699.0  France  Female  39.0       1       0.00   \n",
       "4    15737888         850.0   Spain  Female  43.0       2  125510.82   \n",
       "\n",
       "   NumOfProducts HasCrCard? IsActiveMember  Estimated Salary ExitedFromBank?  \n",
       "0              1          1              1         101348.88               1  \n",
       "1              1          0              1         112542.58               0  \n",
       "2              3          1              0         113931.57               1  \n",
       "3              2          0              0          93826.63               0  \n",
       "4              1          1              1          79084.10               0  "
      ]
     },
     "execution_count": 28,
     "metadata": {},
     "output_type": "execute_result"
    }
   ],
   "source": [
    "df_bank.head()"
   ]
  },
  {
   "cell_type": "code",
   "execution_count": 43,
   "id": "b100570d",
   "metadata": {},
   "outputs": [],
   "source": [
    "# Changing data type on column 'Credit Score' from a float to a number\n",
    "df_bank['Credit Score'] = df_bank['Credit Score'].astype('int')"
   ]
  },
  {
   "cell_type": "code",
   "execution_count": 56,
   "id": "3e87e798",
   "metadata": {},
   "outputs": [
    {
     "data": {
      "text/html": [
       "<div>\n",
       "<style scoped>\n",
       "    .dataframe tbody tr th:only-of-type {\n",
       "        vertical-align: middle;\n",
       "    }\n",
       "\n",
       "    .dataframe tbody tr th {\n",
       "        vertical-align: top;\n",
       "    }\n",
       "\n",
       "    .dataframe thead th {\n",
       "        text-align: right;\n",
       "    }\n",
       "</style>\n",
       "<table border=\"1\" class=\"dataframe\">\n",
       "  <thead>\n",
       "    <tr style=\"text-align: right;\">\n",
       "      <th></th>\n",
       "      <th>Customer_ID</th>\n",
       "      <th>Credit Score</th>\n",
       "      <th>Country</th>\n",
       "      <th>Gender</th>\n",
       "      <th>Age</th>\n",
       "      <th>Tenure</th>\n",
       "      <th>Balance</th>\n",
       "      <th>NumOfProducts</th>\n",
       "      <th>HasCrCard?</th>\n",
       "      <th>IsActiveMember</th>\n",
       "      <th>Estimated Salary</th>\n",
       "      <th>ExitedFromBank?</th>\n",
       "    </tr>\n",
       "  </thead>\n",
       "  <tbody>\n",
       "    <tr>\n",
       "      <th>0</th>\n",
       "      <td>15634602</td>\n",
       "      <td>619</td>\n",
       "      <td>France</td>\n",
       "      <td>Female</td>\n",
       "      <td>42.0</td>\n",
       "      <td>2</td>\n",
       "      <td>0.00</td>\n",
       "      <td>1</td>\n",
       "      <td>1</td>\n",
       "      <td>1</td>\n",
       "      <td>101348.88</td>\n",
       "      <td>1</td>\n",
       "    </tr>\n",
       "    <tr>\n",
       "      <th>1</th>\n",
       "      <td>15647311</td>\n",
       "      <td>608</td>\n",
       "      <td>Spain</td>\n",
       "      <td>Female</td>\n",
       "      <td>41.0</td>\n",
       "      <td>1</td>\n",
       "      <td>83807.86</td>\n",
       "      <td>1</td>\n",
       "      <td>0</td>\n",
       "      <td>1</td>\n",
       "      <td>112542.58</td>\n",
       "      <td>0</td>\n",
       "    </tr>\n",
       "    <tr>\n",
       "      <th>2</th>\n",
       "      <td>15619304</td>\n",
       "      <td>502</td>\n",
       "      <td>France</td>\n",
       "      <td>Female</td>\n",
       "      <td>42.0</td>\n",
       "      <td>8</td>\n",
       "      <td>159660.80</td>\n",
       "      <td>3</td>\n",
       "      <td>1</td>\n",
       "      <td>0</td>\n",
       "      <td>113931.57</td>\n",
       "      <td>1</td>\n",
       "    </tr>\n",
       "    <tr>\n",
       "      <th>3</th>\n",
       "      <td>15701354</td>\n",
       "      <td>699</td>\n",
       "      <td>France</td>\n",
       "      <td>Female</td>\n",
       "      <td>39.0</td>\n",
       "      <td>1</td>\n",
       "      <td>0.00</td>\n",
       "      <td>2</td>\n",
       "      <td>0</td>\n",
       "      <td>0</td>\n",
       "      <td>93826.63</td>\n",
       "      <td>0</td>\n",
       "    </tr>\n",
       "    <tr>\n",
       "      <th>4</th>\n",
       "      <td>15737888</td>\n",
       "      <td>850</td>\n",
       "      <td>Spain</td>\n",
       "      <td>Female</td>\n",
       "      <td>43.0</td>\n",
       "      <td>2</td>\n",
       "      <td>125510.82</td>\n",
       "      <td>1</td>\n",
       "      <td>1</td>\n",
       "      <td>1</td>\n",
       "      <td>79084.10</td>\n",
       "      <td>0</td>\n",
       "    </tr>\n",
       "  </tbody>\n",
       "</table>\n",
       "</div>"
      ],
      "text/plain": [
       "  Customer_ID  Credit Score Country  Gender   Age  Tenure    Balance  \\\n",
       "0    15634602           619  France  Female  42.0       2       0.00   \n",
       "1    15647311           608   Spain  Female  41.0       1   83807.86   \n",
       "2    15619304           502  France  Female  42.0       8  159660.80   \n",
       "3    15701354           699  France  Female  39.0       1       0.00   \n",
       "4    15737888           850   Spain  Female  43.0       2  125510.82   \n",
       "\n",
       "   NumOfProducts HasCrCard? IsActiveMember  Estimated Salary ExitedFromBank?  \n",
       "0              1          1              1         101348.88               1  \n",
       "1              1          0              1         112542.58               0  \n",
       "2              3          1              0         113931.57               1  \n",
       "3              2          0              0          93826.63               0  \n",
       "4              1          1              1          79084.10               0  "
      ]
     },
     "execution_count": 56,
     "metadata": {},
     "output_type": "execute_result"
    }
   ],
   "source": [
    "df_bank.head()"
   ]
  },
  {
   "cell_type": "markdown",
   "id": "cbfd604a",
   "metadata": {},
   "source": [
    "## Replace Country name{ FR, ES, DE} with full country name "
   ]
  },
  {
   "cell_type": "code",
   "execution_count": 57,
   "id": "240ca558",
   "metadata": {},
   "outputs": [],
   "source": [
    "# Replaace FR with 'French'\n",
    "df_bank['Country'].replace('FR', 'France', inplace=True)"
   ]
  },
  {
   "cell_type": "code",
   "execution_count": 59,
   "id": "eb2407cd",
   "metadata": {},
   "outputs": [],
   "source": [
    "# Replace ES with \"Spain\"\n",
    "df_bank['Country'].replace('ES', 'Spain', inplace=True)"
   ]
  },
  {
   "cell_type": "code",
   "execution_count": 60,
   "id": "c1457bb7",
   "metadata": {},
   "outputs": [],
   "source": [
    "# Replace De with'Germany'\n",
    "df_bank['Country'].replace('DE', 'Germany', inplace=True)"
   ]
  },
  {
   "cell_type": "code",
   "execution_count": 61,
   "id": "6f3271eb",
   "metadata": {},
   "outputs": [
    {
     "name": "stdout",
     "output_type": "stream",
     "text": [
      "    Customer_ID  Credit Score Country  Gender   Age  Tenure    Balance  \\\n",
      "0      15634602           619  France  Female  42.0       2       0.00   \n",
      "1      15647311           608   Spain  Female  41.0       1   83807.86   \n",
      "2      15619304           502  France  Female  42.0       8  159660.80   \n",
      "3      15701354           699  France  Female  39.0       1       0.00   \n",
      "4      15737888           850   Spain  Female  43.0       2  125510.82   \n",
      "..          ...           ...     ...     ...   ...     ...        ...   \n",
      "986    15655339           566  France    Male  36.0       1  142120.91   \n",
      "987    15613749           569   Spain    Male  34.0       0  151839.26   \n",
      "988    15664521           659   Spain    Male  31.0       7  149620.88   \n",
      "989    15681206           722  France  Female  49.0       3  168197.66   \n",
      "990    15745527           655  France    Male  37.0       5   93147.00   \n",
      "\n",
      "     NumOfProducts HasCrCard? IsActiveMember  Estimated Salary ExitedFromBank?  \n",
      "0                1          1              1         101348.88               1  \n",
      "1                1          0              1         112542.58               0  \n",
      "2                3          1              0         113931.57               1  \n",
      "3                2          0              0          93826.63               0  \n",
      "4                1          1              1          79084.10               0  \n",
      "..             ...        ...            ...               ...             ...  \n",
      "986              1          1              0          79616.37               0  \n",
      "987              1          1              0         102299.81               1  \n",
      "988              2          1              1         104533.51               0  \n",
      "989              1          1              0         140765.57               1  \n",
      "990              2          1              0          66214.13               0  \n",
      "\n",
      "[991 rows x 12 columns]\n"
     ]
    }
   ],
   "source": [
    "print(df_bank)"
   ]
  },
  {
   "cell_type": "code",
   "execution_count": 62,
   "id": "2a8425eb",
   "metadata": {},
   "outputs": [],
   "source": [
    "df_bank['Age'] = df_bank['Age'].astype('int')"
   ]
  },
  {
   "cell_type": "code",
   "execution_count": 63,
   "id": "5ef4aa87",
   "metadata": {},
   "outputs": [
    {
     "name": "stdout",
     "output_type": "stream",
     "text": [
      "    Customer_ID  Credit Score Country  Gender  Age  Tenure    Balance  \\\n",
      "0      15634602           619  France  Female   42       2       0.00   \n",
      "1      15647311           608   Spain  Female   41       1   83807.86   \n",
      "2      15619304           502  France  Female   42       8  159660.80   \n",
      "3      15701354           699  France  Female   39       1       0.00   \n",
      "4      15737888           850   Spain  Female   43       2  125510.82   \n",
      "..          ...           ...     ...     ...  ...     ...        ...   \n",
      "986    15655339           566  France    Male   36       1  142120.91   \n",
      "987    15613749           569   Spain    Male   34       0  151839.26   \n",
      "988    15664521           659   Spain    Male   31       7  149620.88   \n",
      "989    15681206           722  France  Female   49       3  168197.66   \n",
      "990    15745527           655  France    Male   37       5   93147.00   \n",
      "\n",
      "     NumOfProducts HasCrCard? IsActiveMember  Estimated Salary ExitedFromBank?  \n",
      "0                1          1              1         101348.88               1  \n",
      "1                1          0              1         112542.58               0  \n",
      "2                3          1              0         113931.57               1  \n",
      "3                2          0              0          93826.63               0  \n",
      "4                1          1              1          79084.10               0  \n",
      "..             ...        ...            ...               ...             ...  \n",
      "986              1          1              0          79616.37               0  \n",
      "987              1          1              0         102299.81               1  \n",
      "988              2          1              1         104533.51               0  \n",
      "989              1          1              0         140765.57               1  \n",
      "990              2          1              0          66214.13               0  \n",
      "\n",
      "[991 rows x 12 columns]\n"
     ]
    }
   ],
   "source": [
    "print(df_bank)"
   ]
  },
  {
   "cell_type": "code",
   "execution_count": 64,
   "id": "ca200f43",
   "metadata": {},
   "outputs": [
    {
     "data": {
      "text/plain": [
       "Country\n",
       "France     480\n",
       "Germany    257\n",
       "Spain      254\n",
       "Name: count, dtype: int64"
      ]
     },
     "execution_count": 64,
     "metadata": {},
     "output_type": "execute_result"
    }
   ],
   "source": [
    "df_bank['Country'].value_counts(dropna=False)"
   ]
  },
  {
   "cell_type": "code",
   "execution_count": 66,
   "id": "5c581067",
   "metadata": {},
   "outputs": [],
   "source": [
    "df_bank['Age'].replace('2', 'N/A', inplace=True)"
   ]
  },
  {
   "cell_type": "code",
   "execution_count": 67,
   "id": "09e7da1b",
   "metadata": {},
   "outputs": [
    {
     "data": {
      "text/plain": [
       "Age\n",
       "36    59\n",
       "35    55\n",
       "37    46\n",
       "34    46\n",
       "31    43\n",
       "      ..\n",
       "68     1\n",
       "80     1\n",
       "73     1\n",
       "79     1\n",
       "74     1\n",
       "Name: count, Length: 61, dtype: int64"
      ]
     },
     "execution_count": 67,
     "metadata": {},
     "output_type": "execute_result"
    }
   ],
   "source": [
    "df_bank['Age'].value_counts(dropna=False)"
   ]
  },
  {
   "cell_type": "code",
   "execution_count": 68,
   "id": "1c2a40ef",
   "metadata": {},
   "outputs": [
    {
     "data": {
      "text/html": [
       "<div>\n",
       "<style scoped>\n",
       "    .dataframe tbody tr th:only-of-type {\n",
       "        vertical-align: middle;\n",
       "    }\n",
       "\n",
       "    .dataframe tbody tr th {\n",
       "        vertical-align: top;\n",
       "    }\n",
       "\n",
       "    .dataframe thead th {\n",
       "        text-align: right;\n",
       "    }\n",
       "</style>\n",
       "<table border=\"1\" class=\"dataframe\">\n",
       "  <thead>\n",
       "    <tr style=\"text-align: right;\">\n",
       "      <th></th>\n",
       "      <th>Credit Score</th>\n",
       "      <th>Age</th>\n",
       "      <th>Tenure</th>\n",
       "      <th>Balance</th>\n",
       "      <th>NumOfProducts</th>\n",
       "      <th>Estimated Salary</th>\n",
       "    </tr>\n",
       "  </thead>\n",
       "  <tbody>\n",
       "    <tr>\n",
       "      <th>count</th>\n",
       "      <td>991.000000</td>\n",
       "      <td>991.000000</td>\n",
       "      <td>991.000000</td>\n",
       "      <td>991.000000</td>\n",
       "      <td>991.000000</td>\n",
       "      <td>991.000000</td>\n",
       "    </tr>\n",
       "    <tr>\n",
       "      <th>mean</th>\n",
       "      <td>648.510595</td>\n",
       "      <td>38.683148</td>\n",
       "      <td>5.066599</td>\n",
       "      <td>78002.718063</td>\n",
       "      <td>1.522704</td>\n",
       "      <td>98375.603471</td>\n",
       "    </tr>\n",
       "    <tr>\n",
       "      <th>std</th>\n",
       "      <td>98.053952</td>\n",
       "      <td>10.952815</td>\n",
       "      <td>2.928371</td>\n",
       "      <td>62799.237345</td>\n",
       "      <td>0.573170</td>\n",
       "      <td>57337.973866</td>\n",
       "    </tr>\n",
       "    <tr>\n",
       "      <th>min</th>\n",
       "      <td>376.000000</td>\n",
       "      <td>2.000000</td>\n",
       "      <td>0.000000</td>\n",
       "      <td>0.000000</td>\n",
       "      <td>1.000000</td>\n",
       "      <td>0.000000</td>\n",
       "    </tr>\n",
       "    <tr>\n",
       "      <th>25%</th>\n",
       "      <td>580.000000</td>\n",
       "      <td>32.000000</td>\n",
       "      <td>2.000000</td>\n",
       "      <td>0.000000</td>\n",
       "      <td>1.000000</td>\n",
       "      <td>47991.320000</td>\n",
       "    </tr>\n",
       "    <tr>\n",
       "      <th>50%</th>\n",
       "      <td>653.000000</td>\n",
       "      <td>37.000000</td>\n",
       "      <td>5.000000</td>\n",
       "      <td>98668.180000</td>\n",
       "      <td>1.000000</td>\n",
       "      <td>98301.610000</td>\n",
       "    </tr>\n",
       "    <tr>\n",
       "      <th>75%</th>\n",
       "      <td>721.000000</td>\n",
       "      <td>44.000000</td>\n",
       "      <td>8.000000</td>\n",
       "      <td>129461.850000</td>\n",
       "      <td>2.000000</td>\n",
       "      <td>146236.190000</td>\n",
       "    </tr>\n",
       "    <tr>\n",
       "      <th>max</th>\n",
       "      <td>850.000000</td>\n",
       "      <td>82.000000</td>\n",
       "      <td>10.000000</td>\n",
       "      <td>213146.200000</td>\n",
       "      <td>4.000000</td>\n",
       "      <td>199725.390000</td>\n",
       "    </tr>\n",
       "  </tbody>\n",
       "</table>\n",
       "</div>"
      ],
      "text/plain": [
       "       Credit Score         Age      Tenure        Balance  NumOfProducts  \\\n",
       "count    991.000000  991.000000  991.000000     991.000000     991.000000   \n",
       "mean     648.510595   38.683148    5.066599   78002.718063       1.522704   \n",
       "std       98.053952   10.952815    2.928371   62799.237345       0.573170   \n",
       "min      376.000000    2.000000    0.000000       0.000000       1.000000   \n",
       "25%      580.000000   32.000000    2.000000       0.000000       1.000000   \n",
       "50%      653.000000   37.000000    5.000000   98668.180000       1.000000   \n",
       "75%      721.000000   44.000000    8.000000  129461.850000       2.000000   \n",
       "max      850.000000   82.000000   10.000000  213146.200000       4.000000   \n",
       "\n",
       "       Estimated Salary  \n",
       "count        991.000000  \n",
       "mean       98375.603471  \n",
       "std        57337.973866  \n",
       "min            0.000000  \n",
       "25%        47991.320000  \n",
       "50%        98301.610000  \n",
       "75%       146236.190000  \n",
       "max       199725.390000  "
      ]
     },
     "execution_count": 68,
     "metadata": {},
     "output_type": "execute_result"
    }
   ],
   "source": [
    "df_bank.describe()"
   ]
  },
  {
   "cell_type": "code",
   "execution_count": 69,
   "id": "b955cd42",
   "metadata": {},
   "outputs": [
    {
     "data": {
      "text/plain": [
       "Estimated Salary\n",
       "0.00         2\n",
       "101348.88    1\n",
       "160941.78    1\n",
       "9567.39      1\n",
       "132210.49    1\n",
       "            ..\n",
       "174652.51    1\n",
       "2010.98      1\n",
       "14109.85     1\n",
       "43527.40     1\n",
       "66214.13     1\n",
       "Name: count, Length: 990, dtype: int64"
      ]
     },
     "execution_count": 69,
     "metadata": {},
     "output_type": "execute_result"
    }
   ],
   "source": [
    "df_bank['Estimated Salary'].value_counts(dropna=False)"
   ]
  },
  {
   "cell_type": "code",
   "execution_count": 70,
   "id": "f2188674",
   "metadata": {},
   "outputs": [],
   "source": [
    "df_bank_updated = df_bank"
   ]
  },
  {
   "cell_type": "code",
   "execution_count": 71,
   "id": "62efad97",
   "metadata": {},
   "outputs": [],
   "source": [
    "df_bank_updated['Estimated Salary']=df_bank_updated['Estimated Salary'].fillna(df_bank_updated['Estimated Salary'].median())"
   ]
  },
  {
   "cell_type": "code",
   "execution_count": 105,
   "id": "800ea12c",
   "metadata": {},
   "outputs": [
    {
     "data": {
      "text/plain": [
       "Estimated Salary\n",
       "0.00         2\n",
       "101348.88    1\n",
       "160941.78    1\n",
       "9567.39      1\n",
       "132210.49    1\n",
       "            ..\n",
       "174652.51    1\n",
       "2010.98      1\n",
       "14109.85     1\n",
       "43527.40     1\n",
       "66214.13     1\n",
       "Name: count, Length: 990, dtype: int64"
      ]
     },
     "execution_count": 105,
     "metadata": {},
     "output_type": "execute_result"
    }
   ],
   "source": [
    "df_bank_updated['Estimated Salary'].value_counts(dropna=False)"
   ]
  },
  {
   "cell_type": "code",
   "execution_count": 73,
   "id": "16f00aa7",
   "metadata": {},
   "outputs": [
    {
     "data": {
      "text/plain": [
       "Customer_ID         0\n",
       "Credit Score        0\n",
       "Country             0\n",
       "Gender              1\n",
       "Age                 0\n",
       "Tenure              0\n",
       "Balance             0\n",
       "NumOfProducts       0\n",
       "HasCrCard?          0\n",
       "IsActiveMember      0\n",
       "Estimated Salary    0\n",
       "ExitedFromBank?     0\n",
       "dtype: int64"
      ]
     },
     "execution_count": 73,
     "metadata": {},
     "output_type": "execute_result"
    }
   ],
   "source": [
    "#Finding missing values in df_bank_updated dataframe\n",
    "df_bank_updated.isnull().sum()"
   ]
  },
  {
   "cell_type": "code",
   "execution_count": 74,
   "id": "338cd56e",
   "metadata": {},
   "outputs": [],
   "source": [
    "df_bank['Gender'].replace('F', 'Female', inplace=True)"
   ]
  },
  {
   "cell_type": "code",
   "execution_count": 76,
   "id": "ece5a1c1",
   "metadata": {},
   "outputs": [],
   "source": [
    "df_bank['Gender'].replace('M', 'Male', inplace=True)"
   ]
  },
  {
   "cell_type": "code",
   "execution_count": 77,
   "id": "b245b550",
   "metadata": {},
   "outputs": [
    {
     "data": {
      "text/plain": [
       "0      Female\n",
       "1      Female\n",
       "2      Female\n",
       "3      Female\n",
       "4      Female\n",
       "        ...  \n",
       "986      Male\n",
       "987      Male\n",
       "988      Male\n",
       "989    Female\n",
       "990      Male\n",
       "Name: Gender, Length: 991, dtype: object"
      ]
     },
     "execution_count": 77,
     "metadata": {},
     "output_type": "execute_result"
    }
   ],
   "source": [
    "df_bank['Gender']"
   ]
  },
  {
   "cell_type": "code",
   "execution_count": 78,
   "id": "1ed8da90",
   "metadata": {},
   "outputs": [
    {
     "data": {
      "text/plain": [
       "Gender\n",
       "Male      528\n",
       "Female    462\n",
       "NaN         1\n",
       "Name: count, dtype: int64"
      ]
     },
     "execution_count": 78,
     "metadata": {},
     "output_type": "execute_result"
    }
   ],
   "source": [
    "df_bank['Gender'].value_counts(dropna=False)"
   ]
  },
  {
   "cell_type": "code",
   "execution_count": 79,
   "id": "997cd652",
   "metadata": {},
   "outputs": [],
   "source": [
    "df_nan = df_bank[df_bank['Gender'].isnull()==True]"
   ]
  },
  {
   "cell_type": "code",
   "execution_count": 89,
   "id": "42d7d0ad",
   "metadata": {},
   "outputs": [
    {
     "data": {
      "text/html": [
       "<div>\n",
       "<style scoped>\n",
       "    .dataframe tbody tr th:only-of-type {\n",
       "        vertical-align: middle;\n",
       "    }\n",
       "\n",
       "    .dataframe tbody tr th {\n",
       "        vertical-align: top;\n",
       "    }\n",
       "\n",
       "    .dataframe thead th {\n",
       "        text-align: right;\n",
       "    }\n",
       "</style>\n",
       "<table border=\"1\" class=\"dataframe\">\n",
       "  <thead>\n",
       "    <tr style=\"text-align: right;\">\n",
       "      <th></th>\n",
       "      <th>Customer_ID</th>\n",
       "      <th>Credit Score</th>\n",
       "      <th>Country</th>\n",
       "      <th>Gender</th>\n",
       "      <th>Age</th>\n",
       "      <th>Tenure</th>\n",
       "      <th>Balance</th>\n",
       "      <th>NumOfProducts</th>\n",
       "      <th>HasCrCard?</th>\n",
       "      <th>IsActiveMember</th>\n",
       "      <th>Estimated Salary</th>\n",
       "      <th>ExitedFromBank?</th>\n",
       "    </tr>\n",
       "  </thead>\n",
       "  <tbody>\n",
       "    <tr>\n",
       "      <th>11</th>\n",
       "      <td>15737173</td>\n",
       "      <td>497</td>\n",
       "      <td>Spain</td>\n",
       "      <td>NaN</td>\n",
       "      <td>24</td>\n",
       "      <td>3</td>\n",
       "      <td>0.0</td>\n",
       "      <td>2</td>\n",
       "      <td>1</td>\n",
       "      <td>0</td>\n",
       "      <td>76390.01</td>\n",
       "      <td>0</td>\n",
       "    </tr>\n",
       "  </tbody>\n",
       "</table>\n",
       "</div>"
      ],
      "text/plain": [
       "   Customer_ID  Credit Score Country Gender  Age  Tenure  Balance  \\\n",
       "11    15737173           497   Spain    NaN   24       3      0.0   \n",
       "\n",
       "    NumOfProducts HasCrCard? IsActiveMember  Estimated Salary ExitedFromBank?  \n",
       "11              2          1              0          76390.01               0  "
      ]
     },
     "execution_count": 89,
     "metadata": {},
     "output_type": "execute_result"
    }
   ],
   "source": [
    "df_nan"
   ]
  },
  {
   "cell_type": "code",
   "execution_count": 93,
   "id": "3fe670b2",
   "metadata": {},
   "outputs": [],
   "source": [
    "df_bank_updated['Gender']=df_bank_updated['Gender'].fillna(df_bank_updated['Gender'].mode())"
   ]
  },
  {
   "cell_type": "code",
   "execution_count": 98,
   "id": "bf584849",
   "metadata": {},
   "outputs": [],
   "source": [
    "df_bank_updated['Gender']=df_bank_updated['Gender'].fillna('Male')"
   ]
  },
  {
   "cell_type": "code",
   "execution_count": 99,
   "id": "652090ac",
   "metadata": {},
   "outputs": [
    {
     "data": {
      "text/plain": [
       "Gender\n",
       "Male      529\n",
       "Female    462\n",
       "Name: count, dtype: int64"
      ]
     },
     "execution_count": 99,
     "metadata": {},
     "output_type": "execute_result"
    }
   ],
   "source": [
    "df_bank['Gender'].value_counts(dropna=False)"
   ]
  },
  {
   "cell_type": "code",
   "execution_count": 101,
   "id": "2b1e5560",
   "metadata": {},
   "outputs": [
    {
     "data": {
      "text/html": [
       "<div>\n",
       "<style scoped>\n",
       "    .dataframe tbody tr th:only-of-type {\n",
       "        vertical-align: middle;\n",
       "    }\n",
       "\n",
       "    .dataframe tbody tr th {\n",
       "        vertical-align: top;\n",
       "    }\n",
       "\n",
       "    .dataframe thead th {\n",
       "        text-align: right;\n",
       "    }\n",
       "</style>\n",
       "<table border=\"1\" class=\"dataframe\">\n",
       "  <thead>\n",
       "    <tr style=\"text-align: right;\">\n",
       "      <th></th>\n",
       "      <th>Credit Score</th>\n",
       "      <th>Age</th>\n",
       "      <th>Tenure</th>\n",
       "      <th>Balance</th>\n",
       "      <th>NumOfProducts</th>\n",
       "      <th>Estimated Salary</th>\n",
       "    </tr>\n",
       "  </thead>\n",
       "  <tbody>\n",
       "    <tr>\n",
       "      <th>count</th>\n",
       "      <td>991.000000</td>\n",
       "      <td>991.000000</td>\n",
       "      <td>991.000000</td>\n",
       "      <td>991.000000</td>\n",
       "      <td>991.000000</td>\n",
       "      <td>991.000000</td>\n",
       "    </tr>\n",
       "    <tr>\n",
       "      <th>mean</th>\n",
       "      <td>648.510595</td>\n",
       "      <td>38.683148</td>\n",
       "      <td>5.066599</td>\n",
       "      <td>78002.718063</td>\n",
       "      <td>1.522704</td>\n",
       "      <td>98375.603471</td>\n",
       "    </tr>\n",
       "    <tr>\n",
       "      <th>std</th>\n",
       "      <td>98.053952</td>\n",
       "      <td>10.952815</td>\n",
       "      <td>2.928371</td>\n",
       "      <td>62799.237345</td>\n",
       "      <td>0.573170</td>\n",
       "      <td>57337.973866</td>\n",
       "    </tr>\n",
       "    <tr>\n",
       "      <th>min</th>\n",
       "      <td>376.000000</td>\n",
       "      <td>2.000000</td>\n",
       "      <td>0.000000</td>\n",
       "      <td>0.000000</td>\n",
       "      <td>1.000000</td>\n",
       "      <td>0.000000</td>\n",
       "    </tr>\n",
       "    <tr>\n",
       "      <th>25%</th>\n",
       "      <td>580.000000</td>\n",
       "      <td>32.000000</td>\n",
       "      <td>2.000000</td>\n",
       "      <td>0.000000</td>\n",
       "      <td>1.000000</td>\n",
       "      <td>47991.320000</td>\n",
       "    </tr>\n",
       "    <tr>\n",
       "      <th>50%</th>\n",
       "      <td>653.000000</td>\n",
       "      <td>37.000000</td>\n",
       "      <td>5.000000</td>\n",
       "      <td>98668.180000</td>\n",
       "      <td>1.000000</td>\n",
       "      <td>98301.610000</td>\n",
       "    </tr>\n",
       "    <tr>\n",
       "      <th>75%</th>\n",
       "      <td>721.000000</td>\n",
       "      <td>44.000000</td>\n",
       "      <td>8.000000</td>\n",
       "      <td>129461.850000</td>\n",
       "      <td>2.000000</td>\n",
       "      <td>146236.190000</td>\n",
       "    </tr>\n",
       "    <tr>\n",
       "      <th>max</th>\n",
       "      <td>850.000000</td>\n",
       "      <td>82.000000</td>\n",
       "      <td>10.000000</td>\n",
       "      <td>213146.200000</td>\n",
       "      <td>4.000000</td>\n",
       "      <td>199725.390000</td>\n",
       "    </tr>\n",
       "  </tbody>\n",
       "</table>\n",
       "</div>"
      ],
      "text/plain": [
       "       Credit Score         Age      Tenure        Balance  NumOfProducts  \\\n",
       "count    991.000000  991.000000  991.000000     991.000000     991.000000   \n",
       "mean     648.510595   38.683148    5.066599   78002.718063       1.522704   \n",
       "std       98.053952   10.952815    2.928371   62799.237345       0.573170   \n",
       "min      376.000000    2.000000    0.000000       0.000000       1.000000   \n",
       "25%      580.000000   32.000000    2.000000       0.000000       1.000000   \n",
       "50%      653.000000   37.000000    5.000000   98668.180000       1.000000   \n",
       "75%      721.000000   44.000000    8.000000  129461.850000       2.000000   \n",
       "max      850.000000   82.000000   10.000000  213146.200000       4.000000   \n",
       "\n",
       "       Estimated Salary  \n",
       "count        991.000000  \n",
       "mean       98375.603471  \n",
       "std        57337.973866  \n",
       "min            0.000000  \n",
       "25%        47991.320000  \n",
       "50%        98301.610000  \n",
       "75%       146236.190000  \n",
       "max       199725.390000  "
      ]
     },
     "execution_count": 101,
     "metadata": {},
     "output_type": "execute_result"
    }
   ],
   "source": [
    "df_bank.describe()"
   ]
  },
  {
   "cell_type": "code",
   "execution_count": 108,
   "id": "e33a3bc6",
   "metadata": {},
   "outputs": [
    {
     "data": {
      "text/plain": [
       "Customer_ID         0\n",
       "Credit Score        0\n",
       "Country             0\n",
       "Gender              0\n",
       "Age                 0\n",
       "Tenure              0\n",
       "Balance             0\n",
       "NumOfProducts       0\n",
       "HasCrCard?          0\n",
       "IsActiveMember      0\n",
       "Estimated Salary    0\n",
       "ExitedFromBank?     0\n",
       "dtype: int64"
      ]
     },
     "execution_count": 108,
     "metadata": {},
     "output_type": "execute_result"
    }
   ],
   "source": [
    "df_bank_updated.isnull().sum()"
   ]
  },
  {
   "cell_type": "code",
   "execution_count": 114,
   "id": "15148cf6",
   "metadata": {},
   "outputs": [
    {
     "data": {
      "text/plain": [
       "Index(['Customer_ID', 'Credit Score', 'Country', 'Gender', 'Age', 'Tenure',\n",
       "       'Balance', 'NumOfProducts', 'HasCrCard?', 'IsActiveMember',\n",
       "       'Estimated Salary', 'ExitedFromBank?'],\n",
       "      dtype='object')"
      ]
     },
     "execution_count": 114,
     "metadata": {},
     "output_type": "execute_result"
    }
   ],
   "source": [
    "# Checking mix type in column\n",
    "df_bank_updated.columns"
   ]
  },
  {
   "cell_type": "code",
   "execution_count": 119,
   "id": "59beedb2",
   "metadata": {},
   "outputs": [],
   "source": [
    "#Finding duplicates\n",
    "df_bank_dups = df_bank[df_bank.duplicated()]"
   ]
  },
  {
   "cell_type": "code",
   "execution_count": 120,
   "id": "144cb012",
   "metadata": {},
   "outputs": [
    {
     "data": {
      "text/html": [
       "<div>\n",
       "<style scoped>\n",
       "    .dataframe tbody tr th:only-of-type {\n",
       "        vertical-align: middle;\n",
       "    }\n",
       "\n",
       "    .dataframe tbody tr th {\n",
       "        vertical-align: top;\n",
       "    }\n",
       "\n",
       "    .dataframe thead th {\n",
       "        text-align: right;\n",
       "    }\n",
       "</style>\n",
       "<table border=\"1\" class=\"dataframe\">\n",
       "  <thead>\n",
       "    <tr style=\"text-align: right;\">\n",
       "      <th></th>\n",
       "      <th>Customer_ID</th>\n",
       "      <th>Credit Score</th>\n",
       "      <th>Country</th>\n",
       "      <th>Gender</th>\n",
       "      <th>Age</th>\n",
       "      <th>Tenure</th>\n",
       "      <th>Balance</th>\n",
       "      <th>NumOfProducts</th>\n",
       "      <th>HasCrCard?</th>\n",
       "      <th>IsActiveMember</th>\n",
       "      <th>Estimated Salary</th>\n",
       "      <th>ExitedFromBank?</th>\n",
       "    </tr>\n",
       "  </thead>\n",
       "  <tbody>\n",
       "  </tbody>\n",
       "</table>\n",
       "</div>"
      ],
      "text/plain": [
       "Empty DataFrame\n",
       "Columns: [Customer_ID, Credit Score, Country, Gender, Age, Tenure, Balance, NumOfProducts, HasCrCard?, IsActiveMember, Estimated Salary, ExitedFromBank?]\n",
       "Index: []"
      ]
     },
     "execution_count": 120,
     "metadata": {},
     "output_type": "execute_result"
    }
   ],
   "source": [
    "df_bank_dups"
   ]
  },
  {
   "cell_type": "markdown",
   "id": "aaafc190",
   "metadata": {},
   "source": [
    "## There are no duplicate data found"
   ]
  },
  {
   "cell_type": "markdown",
   "id": "6c2358d5",
   "metadata": {},
   "source": [
    "## Export Final cleaned df_bank dataframe"
   ]
  },
  {
   "cell_type": "code",
   "execution_count": 123,
   "id": "a8e0d1ee",
   "metadata": {},
   "outputs": [
    {
     "data": {
      "text/html": [
       "<div>\n",
       "<style scoped>\n",
       "    .dataframe tbody tr th:only-of-type {\n",
       "        vertical-align: middle;\n",
       "    }\n",
       "\n",
       "    .dataframe tbody tr th {\n",
       "        vertical-align: top;\n",
       "    }\n",
       "\n",
       "    .dataframe thead th {\n",
       "        text-align: right;\n",
       "    }\n",
       "</style>\n",
       "<table border=\"1\" class=\"dataframe\">\n",
       "  <thead>\n",
       "    <tr style=\"text-align: right;\">\n",
       "      <th></th>\n",
       "      <th>Customer_ID</th>\n",
       "      <th>Credit Score</th>\n",
       "      <th>Country</th>\n",
       "      <th>Gender</th>\n",
       "      <th>Age</th>\n",
       "      <th>Tenure</th>\n",
       "      <th>Balance</th>\n",
       "      <th>NumOfProducts</th>\n",
       "      <th>HasCrCard?</th>\n",
       "      <th>IsActiveMember</th>\n",
       "      <th>Estimated Salary</th>\n",
       "      <th>ExitedFromBank?</th>\n",
       "    </tr>\n",
       "  </thead>\n",
       "  <tbody>\n",
       "    <tr>\n",
       "      <th>0</th>\n",
       "      <td>15634602</td>\n",
       "      <td>619</td>\n",
       "      <td>France</td>\n",
       "      <td>Female</td>\n",
       "      <td>42</td>\n",
       "      <td>2</td>\n",
       "      <td>0.00</td>\n",
       "      <td>1</td>\n",
       "      <td>1</td>\n",
       "      <td>1</td>\n",
       "      <td>101348.88</td>\n",
       "      <td>1</td>\n",
       "    </tr>\n",
       "    <tr>\n",
       "      <th>1</th>\n",
       "      <td>15647311</td>\n",
       "      <td>608</td>\n",
       "      <td>Spain</td>\n",
       "      <td>Female</td>\n",
       "      <td>41</td>\n",
       "      <td>1</td>\n",
       "      <td>83807.86</td>\n",
       "      <td>1</td>\n",
       "      <td>0</td>\n",
       "      <td>1</td>\n",
       "      <td>112542.58</td>\n",
       "      <td>0</td>\n",
       "    </tr>\n",
       "    <tr>\n",
       "      <th>2</th>\n",
       "      <td>15619304</td>\n",
       "      <td>502</td>\n",
       "      <td>France</td>\n",
       "      <td>Female</td>\n",
       "      <td>42</td>\n",
       "      <td>8</td>\n",
       "      <td>159660.80</td>\n",
       "      <td>3</td>\n",
       "      <td>1</td>\n",
       "      <td>0</td>\n",
       "      <td>113931.57</td>\n",
       "      <td>1</td>\n",
       "    </tr>\n",
       "    <tr>\n",
       "      <th>3</th>\n",
       "      <td>15701354</td>\n",
       "      <td>699</td>\n",
       "      <td>France</td>\n",
       "      <td>Female</td>\n",
       "      <td>39</td>\n",
       "      <td>1</td>\n",
       "      <td>0.00</td>\n",
       "      <td>2</td>\n",
       "      <td>0</td>\n",
       "      <td>0</td>\n",
       "      <td>93826.63</td>\n",
       "      <td>0</td>\n",
       "    </tr>\n",
       "    <tr>\n",
       "      <th>4</th>\n",
       "      <td>15737888</td>\n",
       "      <td>850</td>\n",
       "      <td>Spain</td>\n",
       "      <td>Female</td>\n",
       "      <td>43</td>\n",
       "      <td>2</td>\n",
       "      <td>125510.82</td>\n",
       "      <td>1</td>\n",
       "      <td>1</td>\n",
       "      <td>1</td>\n",
       "      <td>79084.10</td>\n",
       "      <td>0</td>\n",
       "    </tr>\n",
       "  </tbody>\n",
       "</table>\n",
       "</div>"
      ],
      "text/plain": [
       "  Customer_ID  Credit Score Country  Gender  Age  Tenure    Balance  \\\n",
       "0    15634602           619  France  Female   42       2       0.00   \n",
       "1    15647311           608   Spain  Female   41       1   83807.86   \n",
       "2    15619304           502  France  Female   42       8  159660.80   \n",
       "3    15701354           699  France  Female   39       1       0.00   \n",
       "4    15737888           850   Spain  Female   43       2  125510.82   \n",
       "\n",
       "   NumOfProducts HasCrCard? IsActiveMember  Estimated Salary ExitedFromBank?  \n",
       "0              1          1              1         101348.88               1  \n",
       "1              1          0              1         112542.58               0  \n",
       "2              3          1              0         113931.57               1  \n",
       "3              2          0              0          93826.63               0  \n",
       "4              1          1              1          79084.10               0  "
      ]
     },
     "execution_count": 123,
     "metadata": {},
     "output_type": "execute_result"
    }
   ],
   "source": [
    "df_bank.head()"
   ]
  },
  {
   "cell_type": "code",
   "execution_count": 124,
   "id": "624f9938",
   "metadata": {
    "scrolled": true
   },
   "outputs": [],
   "source": [
    "df_bank.to_csv(os.path.join(path, '02 Data','Prepared Data', 'df_PigE_bank_cleaned.csv'))"
   ]
  },
  {
   "cell_type": "code",
   "execution_count": null,
   "id": "2b336b2b",
   "metadata": {},
   "outputs": [],
   "source": []
  }
 ],
 "metadata": {
  "kernelspec": {
   "display_name": "Python 3 (ipykernel)",
   "language": "python",
   "name": "python3"
  },
  "language_info": {
   "codemirror_mode": {
    "name": "ipython",
    "version": 3
   },
   "file_extension": ".py",
   "mimetype": "text/x-python",
   "name": "python",
   "nbconvert_exporter": "python",
   "pygments_lexer": "ipython3",
   "version": "3.11.5"
  }
 },
 "nbformat": 4,
 "nbformat_minor": 5
}
